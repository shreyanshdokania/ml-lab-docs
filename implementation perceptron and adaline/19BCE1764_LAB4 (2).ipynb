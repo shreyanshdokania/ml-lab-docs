{
  "nbformat": 4,
  "nbformat_minor": 0,
  "metadata": {
    "colab": {
      "name": "19BCE1764_LAB4.ipynb",
      "provenance": []
    },
    "kernelspec": {
      "name": "python3",
      "display_name": "Python 3"
    },
    "language_info": {
      "name": "python"
    }
  },
  "cells": [
    {
      "cell_type": "code",
      "source": [
        "#perceptron\n",
        "\n",
        "import numpy as np\n",
        "\n",
        "\n",
        "class Perceptron:\n",
        "    def __init__(self, max_iters=100):\n",
        "        self.max_iters = max_iters\n",
        "    \n",
        "    def fit(self, X, y):\n",
        "        X, y = np.asarray(X), np.asarray(y)\n",
        "        iters = 0\n",
        "        \n",
        "        X = np.concatenate((X, np.asarray([[1] * X.shape[0]]).T), axis=1)\n",
        "        \n",
        "        ω = np.random.random(X.shape[1])        \n",
        "        \n",
        "        for _ in range(self.max_iters):\n",
        "            y_pred_all = []\n",
        "            for idx in range(X.shape[0]):\n",
        "                x_sample, y_sample = X[idx], y[idx]\n",
        "                y_pred = int(np.sum(ω * x_sample) >= 0.5)\n",
        "                if y_pred == y_sample:\n",
        "                    pass\n",
        "                elif y_pred == 0 and y_sample == 1:\n",
        "                    ω = ω + x_sample\n",
        "                elif y_pred == 1 and y_sample == 0:\n",
        "                    ω = ω - x_sample\n",
        "                \n",
        "                y_pred_all.append(y_pred)\n",
        "            \n",
        "            iters += 1\n",
        "            if np.equal(np.array(y_pred_all), y).all():\n",
        "                break\n",
        "                \n",
        "        self.iters, self.ω = iters, ω\n",
        "        \n",
        "    def predict(self, X):\n",
        "        X = np.asarray(X)\n",
        "        X = np.concatenate((X, np.asarray([[1] * X.shape[0]]).T), axis=1)\n",
        "        \n",
        "        return (X @ self.ω > 0.5).astype(int)"
      ],
      "metadata": {
        "id": "H-HZQC1NgqDl"
      },
      "execution_count": null,
      "outputs": []
    },
    {
      "cell_type": "code",
      "source": [
        "clf = Perceptron()\n",
        "clf.fit([[1], [2], [3]], [0, 0, 1])"
      ],
      "metadata": {
        "id": "UkJPpCmbgx46"
      },
      "execution_count": null,
      "outputs": []
    },
    {
      "cell_type": "code",
      "source": [
        "clf.iters\n"
      ],
      "metadata": {
        "colab": {
          "base_uri": "https://localhost:8080/"
        },
        "id": "ou8p4FSvgz5q",
        "outputId": "0d69ec2b-be9b-4ce4-b50b-de1dfc80954d"
      },
      "execution_count": null,
      "outputs": [
        {
          "output_type": "execute_result",
          "data": {
            "text/plain": [
              "6"
            ]
          },
          "metadata": {},
          "execution_count": 18
        }
      ]
    },
    {
      "cell_type": "code",
      "source": [
        "clf.predict([[1], [2], [3]])\n"
      ],
      "metadata": {
        "colab": {
          "base_uri": "https://localhost:8080/"
        },
        "id": "LsnorfrYg1vi",
        "outputId": "762e3725-017d-44f4-a5ec-187d11a4856a"
      },
      "execution_count": null,
      "outputs": [
        {
          "output_type": "execute_result",
          "data": {
            "text/plain": [
              "array([0, 0, 1])"
            ]
          },
          "metadata": {},
          "execution_count": 19
        }
      ]
    },
    {
      "cell_type": "code",
      "source": [
        "clf = Perceptron()\n",
        "clf.fit([[1], [2], [3]], [0, 1, 0])"
      ],
      "metadata": {
        "id": "zLpOwUKpg6za"
      },
      "execution_count": null,
      "outputs": []
    },
    {
      "cell_type": "code",
      "source": [
        "clf.iters"
      ],
      "metadata": {
        "colab": {
          "base_uri": "https://localhost:8080/"
        },
        "id": "HgYm4tZxg8iK",
        "outputId": "f2655ad2-ddcf-481a-dba2-8327335c48cc"
      },
      "execution_count": null,
      "outputs": [
        {
          "output_type": "execute_result",
          "data": {
            "text/plain": [
              "100"
            ]
          },
          "metadata": {},
          "execution_count": 21
        }
      ]
    },
    {
      "cell_type": "code",
      "source": [
        "clf.predict([[1], [2], [3]])\n"
      ],
      "metadata": {
        "colab": {
          "base_uri": "https://localhost:8080/"
        },
        "id": "Tt-fPa36g_Li",
        "outputId": "3e9b2349-38a1-409f-994f-f9b5028501d6"
      },
      "execution_count": null,
      "outputs": [
        {
          "output_type": "execute_result",
          "data": {
            "text/plain": [
              "array([1, 0, 0])"
            ]
          },
          "metadata": {},
          "execution_count": 22
        }
      ]
    },
    {
      "cell_type": "code",
      "source": [
        "#adaline\n",
        "\n",
        "def adaline(outputs, weights, bias):\n",
        "    total_error = 1\n",
        "    counter = 0\n",
        "    while total_error != 0 and counter < 10:\n",
        "\n",
        "        total_error = 0\n",
        "        counter += 1\n",
        "        for i in range(len(outputs)):\n",
        "            sum = INPUTS[i].dot(weights) + bias\n",
        "            prediction = step_function(sum)\n",
        "\n",
        "            total_error += outputs[i] - prediction\n",
        "            error = outputs[i] - sum\n",
        "\n",
        "            if outputs[i] != prediction:\n",
        "                weights[0] = weights[0] + (LEARNING_RATE * error * INPUTS[i][0])\n",
        "                weights[1] = weights[1] + (LEARNING_RATE * error * INPUTS[i][1])\n",
        "                bias = bias + (LEARNING_RATE * error)\n",
        "                print(\"Weight updated: \" + str(weights[0]))\n",
        "                print(\"Weight updated: \" + str(weights[1]))\n",
        "                print(\"Bias updated`: \" + str(bias))\n",
        "                print(\"----------------------------------------\")\n",
        "\n",
        "        print(\"Total error: \" + str(total_error))\n",
        "        print(\"----------------------------------------\")\n",
        "\n",
        "    return weights, bias"
      ],
      "metadata": {
        "id": "YzpujdFon4U-"
      },
      "execution_count": 1,
      "outputs": []
    }
  ]
}