{
  "cells": [
    {
      "cell_type": "markdown",
      "metadata": {
        "id": "j2YDCFXntPGH"
      },
      "source": [
        "# Working with Unlabeled Data – Clustering Analysis"
      ]
    },
    {
      "cell_type": "markdown",
      "metadata": {
        "id": "7TG6mCiltPGP"
      },
      "source": [
        "### Overview"
      ]
    },
    {
      "cell_type": "code",
      "execution_count": 1,
      "metadata": {
        "id": "tsooaQaFtPGP"
      },
      "outputs": [],
      "source": [
        "from IPython.display import Image\n",
        "%matplotlib inline"
      ]
    },
    {
      "cell_type": "markdown",
      "metadata": {
        "id": "HriowV16tPGP"
      },
      "source": [
        "# Grouping objects by similarity using k-means"
      ]
    },
    {
      "cell_type": "markdown",
      "metadata": {
        "id": "VisczpdmtPGQ"
      },
      "source": [
        "1.\t Randomly pick k centroids from the sample points as initial cluster centers.\n",
        "                                                 ( j )\n",
        "2.\t Assign each sample to the nearest centroid μ , j ∈ { 1, ... , k } .\n",
        "3.\t Move the centroids to the center of the samples that were assigned to it.\n",
        "4.\t Repeat the steps 2 and 3 until the cluster assignment do not change or a user-defined tolerance or a maximum number of iterations is reached."
      ]
    },
    {
      "cell_type": "code",
      "execution_count": 2,
      "metadata": {
        "id": "rglBzpl3tPGQ"
      },
      "outputs": [],
      "source": [
        "from sklearn.cluster import KMeans\n",
        "import pandas as pd\n",
        "import matplotlib.pyplot as plt\n",
        "from matplotlib import style\n",
        "style.use(\"ggplot\")\n",
        "%matplotlib inline"
      ]
    },
    {
      "cell_type": "code",
      "execution_count": 3,
      "metadata": {
        "colab": {
          "base_uri": "https://localhost:8080/"
        },
        "id": "WkMOFCJItPGQ",
        "outputId": "f099c071-0176-4911-90b0-a988f098a00d"
      },
      "outputs": [
        {
          "output_type": "stream",
          "name": "stdout",
          "text": [
            "     x     y\n",
            "0  1.0   2.0\n",
            "1  5.0   8.0\n",
            "2  1.5   1.8\n",
            "3  8.0   8.0\n",
            "4  1.0   0.6\n",
            "5  9.0  11.0\n"
          ]
        }
      ],
      "source": [
        "data = pd.DataFrame([[1, 2],\n",
        "              [5, 8],\n",
        "              [1.5, 1.8],\n",
        "              [8, 8],\n",
        "              [1, 0.6],\n",
        "              [9, 11]], columns=['x','y'])\n",
        "print( data )"
      ]
    },
    {
      "cell_type": "code",
      "execution_count": 4,
      "metadata": {
        "colab": {
          "base_uri": "https://localhost:8080/"
        },
        "id": "6gUVsec7tPGR",
        "outputId": "263b54ee-5ee8-402f-8b5c-ef8a6c077fb8"
      },
      "outputs": [
        {
          "output_type": "stream",
          "name": "stdout",
          "text": [
            "[[7.33333333 9.        ]\n",
            " [1.16666667 1.46666667]]\n",
            "[1 0 1 0 1 0]\n"
          ]
        }
      ],
      "source": [
        "kmeans = KMeans(n_clusters=2).fit(data)\n",
        "\n",
        "centroids = kmeans.cluster_centers_\n",
        "labels = kmeans.labels_\n",
        "\n",
        "print(centroids)\n",
        "print(labels)"
      ]
    },
    {
      "cell_type": "code",
      "execution_count": 5,
      "metadata": {
        "colab": {
          "base_uri": "https://localhost:8080/",
          "height": 288
        },
        "id": "wlr2i0IMtPGR",
        "outputId": "da1912d0-0a22-43a8-dcac-a64576ccd5da"
      },
      "outputs": [
        {
          "output_type": "display_data",
          "data": {
            "text/plain": [
              "<Figure size 432x288 with 1 Axes>"
            ],
            "image/png": "[encoded data removed]"
          },
          "metadata": {
            "needs_background": "light"
          }
        }
      ],
      "source": [
        "data['labels'] = labels\n",
        "\n",
        "#plt.plot(data, colors[data['labels'], markersize = 10)\n",
        "\n",
        "group1 = data[data['labels']==1].plot( kind='scatter', x='x', y='y', color='DarkGreen', label=\"Group 1\" )\n",
        "group2 = data[data['labels']==0].plot( kind='scatter', x='x', y='y', color='Brown', ax=group1, label=\"Group 2\" )\n",
        "group1.legend(loc='upper center', bbox_to_anchor=(0.5, 1.05),\n",
        "          ncol=3, fancybox=True, shadow=True)\n",
        "plt.scatter(centroids[:, 0],centroids[:, 1], marker = \"x\", s=150, linewidths = 5, zorder = 10)\n",
        "\n",
        "plt.show()"
      ]
    },
    {
      "cell_type": "markdown",
      "metadata": {
        "id": "zjdjHruDtPGR"
      },
      "source": [
        "<br>"
      ]
    }
  ],
  "metadata": {
    "anaconda-cloud": {},
    "kernelspec": {
      "display_name": "Python 3",
      "language": "python",
      "name": "python3"
    },
    "language_info": {
      "codemirror_mode": {
        "name": "ipython",
        "version": 3
      },
      "file_extension": ".py",
      "mimetype": "text/x-python",
      "name": "python",
      "nbconvert_exporter": "python",
      "pygments_lexer": "ipython3",
      "version": "3.8.5"
    },
    "colab": {
      "provenance": []
    }
  },
  "nbformat": 4,
  "nbformat_minor": 0
}